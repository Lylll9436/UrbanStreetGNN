version https://git-lfs.github.com/spec/v1
oid sha256:61668056ee9be4ebf204db6268e4af1a40633180d58d810b8c8483dd0d6e1f18
size 792677
