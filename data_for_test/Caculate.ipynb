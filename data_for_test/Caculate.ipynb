version https://git-lfs.github.com/spec/v1
oid sha256:6d56c33e30f01817592bcc41475cd2c95e1daa91b564d8ba9f6bf4553bfeae92
size 2082713
