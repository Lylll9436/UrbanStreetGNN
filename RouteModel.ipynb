version https://git-lfs.github.com/spec/v1
oid sha256:92367c73dc994fc6d2bd56e2f98ff0952012f52743d70feb82117d0217c8b2e8
size 4546884
